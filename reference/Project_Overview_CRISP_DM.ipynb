{
  "cells": [
    {
      "cell_type": "markdown",
      "metadata": {
        "id": "view-in-github",
        "colab_type": "text"
      },
      "source": [
        "<a href=\"https://colab.research.google.com/github/jirvingphd/osemn-project-template/blob/master/reference/Project_Overview_CRISP_DM.ipynb\" target=\"_parent\"><img src=\"https://colab.research.google.com/assets/colab-badge.svg\" alt=\"Open In Colab\"/></a>"
      ]
    },
    {
      "cell_type": "markdown",
      "id": "91ca7079-e532-46ba-adff-cd0802e3bd8c",
      "metadata": {
        "id": "91ca7079-e532-46ba-adff-cd0802e3bd8c"
      },
      "source": [
        "# CRISP-DM (Data Science Workflows/Processes)"
      ]
    },
    {
      "cell_type": "markdown",
      "id": "37ebb602-8251-4552-971f-e3aa8c4c6d4c",
      "metadata": {
        "id": "37ebb602-8251-4552-971f-e3aa8c4c6d4c"
      },
      "source": [
        "## Intro:\n",
        "\n",
        "Data science projects can take many forms across many domains (finance, healthcare, higher education, etc.). Despite the variability in subject matter, every data science project has the same core pillars of the project’s life cycle.\n",
        "\n",
        "These common pillars of the data science process have been captured and summarized in several guiding frameworks, such as OSEMN, SEMMA, etc. While your future employer may have a preferred process, the most popular process used by data science teams today is the \"CRoss Industry Standard Process for Data Mining\" (CRISP-DM) process.\n",
        "\n",
        "IBM originally developed CRISP-DM in the late 1990s as a generalizable data modeling process. Since its creation, it has been adapted and applied to many domains and tasks, but it works particularly well for data science projects."
      ]
    },
    {
      "cell_type": "markdown",
      "id": "c80ed783-2c7c-4dcd-a252-599cadb7c377",
      "metadata": {
        "id": "c80ed783-2c7c-4dcd-a252-599cadb7c377"
      },
      "source": [
        "## The 6 Stages of the CRISP-DM Process"
      ]
    },
    {
      "cell_type": "markdown",
      "id": "860ec13e-9e17-4ddf-8307-640c36af323c",
      "metadata": {
        "id": "860ec13e-9e17-4ddf-8307-640c36af323c"
      },
      "source": [
        "![CRISP-DM Process Model](https://lh7-us.googleusercontent.com/tZuEwVJGcm28FA5bwUMR8uEw19iDzMB3i87gACh2rbvHp0HtSTmY1cRMVszeAjduBAHGly41upwMVKbGDeaQe8Qk-nAcOCJ7bQgM5qvl6iYhcbYmxYpP-KawwkeqQRKx9lVbAfBMRKd9W7h2LuQWgw)\n",
        "\n",
        "[Image Source](https://www.datascience-pm.com/crisp-dm-2/)\n",
        "\n",
        "The CRISP-DM process consists of 6 sequential phases:\n",
        "\n",
        "- Phase 1) Business understanding:\n",
        "    - *What is the stakeholder’s goal? What do they need?*\n",
        "- Phase 2) Data understanding:\n",
        "    - *What data do we have or need, and is it clean?*\n",
        "- Phase 3) Data preparation:\n",
        "    - How do we prepare this data for modeling?\n",
        "- Phase 4) Modeling:\n",
        "    - What types of models and techniques should we use?\n",
        "- Phase 5) Evaluation:\n",
        "    -  Which of our models best meets the stakeholders’ needs?\n",
        "- Phase 6) Deployment:\n",
        "    - How do stakeholders receive/access the results?\n",
        "\n",
        "While the specific duties of each data scientist will vary depending on their employer/domain, the general phases of a project share core pillars.\n",
        "___"
      ]
    },
    {
      "cell_type": "markdown",
      "id": "6a5ed8b7-9712-4330-af10-ecf57740ade5",
      "metadata": {
        "id": "6a5ed8b7-9712-4330-af10-ecf57740ade5"
      },
      "source": [
        "## Phase 1) Business Understanding"
      ]
    },
    {
      "cell_type": "markdown",
      "id": "78d94224-9bb5-4db4-a3dc-99a7bb48faed",
      "metadata": {
        "id": "78d94224-9bb5-4db4-a3dc-99a7bb48faed"
      },
      "source": [
        "First, we focus on the stakeholder's needs and requirements.\n",
        "\n",
        "- Who are the stakeholders? Who is asking you for this project/analysis?\n",
        "- What do the stakeholders want to know/accomplish?\n",
        "- How do they plan to use the information/model that we provide?\n",
        "- What would the stakeholders consider to be a successful outcome?"
      ]
    },
    {
      "cell_type": "markdown",
      "id": "881b886e-2359-4b17-bb5f-b1367dec4028",
      "metadata": {
        "id": "881b886e-2359-4b17-bb5f-b1367dec4028"
      },
      "source": [
        "## Phase 2) Data Understanding"
      ]
    },
    {
      "cell_type": "markdown",
      "id": "1cbf0947-7c66-4dd2-91ec-5c8f07478b4b",
      "metadata": {
        "id": "1cbf0947-7c66-4dd2-91ec-5c8f07478b4b"
      },
      "source": [
        "Next, we focus on the data available for the project at a high level.\n",
        "\n",
        "- 2.1) What data have we been provided?\n",
        "    - Is there any data we need to collect/combine for our task?\n",
        "- 2.2) What information is included in the data?\n",
        "    - How many records (rows)?\n",
        "    - How many features (columns)?\n",
        "    - What is the format/data type of each feature (string/integer/etc.)?\n",
        "    - What is the meaning of each feature (how does it relate to the stakeholder’s goals?)\n",
        "- 2.3) How clean is the data?\n",
        "    - Are there missing values?\n",
        "    - Are there duplicate rows?\n",
        "    - Are there any features with inconsistent values? (“yes” vs. “Yes”)\n",
        "    - Do any features need to be combined or separated?\n",
        "- 2.4) What do the features look like and how are they related?\n",
        "    - Explore Each Feature\n",
        "        - I. Dig deeper into the data and further explore and visualize each feature.\n",
        "        - II. Visualize the features and identify relationships between them."
      ]
    },
    {
      "cell_type": "markdown",
      "id": "54aa9443-7a7b-4eb8-80bc-f0ce21d73c77",
      "metadata": {
        "id": "54aa9443-7a7b-4eb8-80bc-f0ce21d73c77"
      },
      "source": [
        "## Phase 3) Data Preparation"
      ]
    },
    {
      "cell_type": "markdown",
      "id": "d43e0877-6b80-4395-b566-7431cb1d7a08",
      "metadata": {
        "id": "d43e0877-6b80-4395-b566-7431cb1d7a08"
      },
      "source": [
        "Once we understand the data, we must prepare it for modeling purposes.\n",
        "\n",
        "- Select the features to include in your model.\n",
        "- Construct Data/Feature Engineering\n",
        "    - Create new columns by combining/separating pre-existing data.\n",
        "    - For example:\n",
        "        - Creating separate “Year” and “Month” columns from a “Date” column.\n",
        "        - Calculating a “Profit” feature by subtracting the “Cost” from the “Revenue”.\n",
        "- Clean the data for modeling.\n",
        "    - Drop duplicate information.\n",
        "    - Correct/impute missing values.\n",
        "    - Fix inconsistencies within columns.\n",
        "    - Ensure the datatypes are correct for each column.\n",
        "        - Are numeric columns stores as numeric data type?\n",
        "    - Convert string/categorical features into numeric features for machine learning.\n",
        "\n",
        "As a rule of thumb, for any data science project, 80% of our time/effort is spent on the first 3 phases alone."
      ]
    },
    {
      "cell_type": "markdown",
      "id": "4be3e1cc-5beb-457e-aa7c-3c6f2adf4f5f",
      "metadata": {
        "id": "4be3e1cc-5beb-457e-aa7c-3c6f2adf4f5f"
      },
      "source": [
        "## Phase 4) Modeling"
      ]
    },
    {
      "cell_type": "markdown",
      "id": "5c038307-4fd3-4401-9de8-867001e05d38",
      "metadata": {
        "id": "5c038307-4fd3-4401-9de8-867001e05d38"
      },
      "source": [
        "- Select which types of models to try and their assumptions.\n",
        "- Set aside some of the data to test the models. (25% saved for testing)\n",
        "- Build and evaluate the Model\n",
        "- Revise and iterate until you reach the stakeholder’s specifications."
      ]
    },
    {
      "cell_type": "markdown",
      "id": "5a8312b4-bcf4-40ac-b049-d6166d595af4",
      "metadata": {
        "id": "5a8312b4-bcf4-40ac-b049-d6166d595af4"
      },
      "source": [
        "## Phase 5) Evaluation (in Business Terms)"
      ]
    },
    {
      "cell_type": "markdown",
      "id": "9415de7c-5c9f-4a31-b138-b5c20be12cdd",
      "metadata": {
        "id": "9415de7c-5c9f-4a31-b138-b5c20be12cdd"
      },
      "source": [
        "- Which model/result(s) should we provide to our stakeholders?\n",
        "-  Do the results meet the stakeholder’s success criteria?\n",
        "- Summarize findings and make a note of anything you would do differently if you had to start the project from the beginning again."
      ]
    },
    {
      "cell_type": "markdown",
      "id": "c8e3a9d5-68a7-4808-9237-7ffc2f5e63e6",
      "metadata": {
        "id": "c8e3a9d5-68a7-4808-9237-7ffc2f5e63e6"
      },
      "source": [
        "## Phase 6) Deployment"
      ]
    },
    {
      "cell_type": "markdown",
      "id": "4ecef0d6-e07d-4287-905d-c711d31b6522",
      "metadata": {
        "id": "4ecef0d6-e07d-4287-905d-c711d31b6522"
      },
      "source": [
        "Depending on the project requirements, the deployment phase could be as simple as generating a final report/presentation, or it could be as complex as deploying models in the cloud with an interface for retrieving predictions on-demand.\n",
        "\n",
        "- As entry-level data scientists and analysts, you will most likely not be responsible for deploying models to the cloud.\n",
        "- Produce Final Report/Presentation\n",
        "    - Create a final summary of the results for the stakeholders.\n",
        "    - Prepare a short (non-technical) executive summary presentation with your results and business recommendations.\n",
        "- Identify Future Directions/Future Work\n",
        "    - What would be the next things you would want to change or add to the project if you continued working on it?"
      ]
    },
    {
      "cell_type": "markdown",
      "id": "d28cd779-32ea-4aeb-b83e-483daeb20ce4",
      "metadata": {
        "id": "d28cd779-32ea-4aeb-b83e-483daeb20ce4"
      },
      "source": [
        "### References\n",
        "\n",
        "- Hotz, N. (2018, September 10). What is CRISP DM? *Data Science Process Alliance*. https://www.datascience-pm.com/crisp-dm-2/\n",
        "- Chapman, P., Clinton, J., Kerber, R., Khabaza, T., Reinartz, T., Shearer, C., & Wirth, R. (1999). *CRISP-DM 1.0: Step-by-step data mining guide*. https://web.archive.org/web/20220401041957/https://www.the-modeling-agency.com/crisp-dm.pdf\n",
        "- Quantum. (2019, August 20). *Data Science project management methodologies*. Medium. https://medium.datadriveninvestor.com/data-science-project-management-methodologies-f6913c6b29eb"
      ]
    },
    {
      "cell_type": "code",
      "execution_count": null,
      "id": "ea4c14de-ef78-4456-9c83-0bf567d1f6ba",
      "metadata": {
        "id": "ea4c14de-ef78-4456-9c83-0bf567d1f6ba"
      },
      "outputs": [],
      "source": []
    }
  ],
  "metadata": {
    "kernelspec": {
      "display_name": "Python (ts-env)",
      "language": "python",
      "name": "ts-env"
    },
    "language_info": {
      "codemirror_mode": {
        "name": "ipython",
        "version": 3
      },
      "file_extension": ".py",
      "mimetype": "text/x-python",
      "name": "python",
      "nbconvert_exporter": "python",
      "pygments_lexer": "ipython3",
      "version": "3.10.14"
    },
    "colab": {
      "provenance": [],
      "include_colab_link": true
    }
  },
  "nbformat": 4,
  "nbformat_minor": 5
}